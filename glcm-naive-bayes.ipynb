{
 "cells": [
  {
   "cell_type": "code",
   "execution_count": 1,
   "id": "integrated-crowd",
   "metadata": {
    "_cell_guid": "b1076dfc-b9ad-4769-8c92-a6c4dae69d19",
    "_uuid": "8f2839f25d086af736a60e9eeb907d3b93b6e0e5",
    "execution": {
     "iopub.execute_input": "2021-04-09T13:04:23.321184Z",
     "iopub.status.busy": "2021-04-09T13:04:23.320022Z",
     "iopub.status.idle": "2021-04-09T13:04:25.521556Z",
     "shell.execute_reply": "2021-04-09T13:04:25.522158Z"
    },
    "papermill": {
     "duration": 2.220538,
     "end_time": "2021-04-09T13:04:25.522457",
     "exception": false,
     "start_time": "2021-04-09T13:04:23.301919",
     "status": "completed"
    },
    "tags": []
   },
   "outputs": [],
   "source": [
    "from PIL import Image\n",
    "from PIL import ImageDraw\n",
    "import timeit\n",
    "import glob\n",
    "import math\n",
    "import matplotlib.pyplot as plt\n",
    "import numpy as np\n",
    "import os\n",
    "import sys\n",
    "from skimage.feature import greycomatrix, greycoprops\n",
    "import matplotlib.image as mpimg \n",
    "from math import sqrt\n",
    "from sklearn.preprocessing import StandardScaler\n",
    "from sklearn.preprocessing import RobustScaler\n",
    "from sklearn.preprocessing import MinMaxScaler\n",
    "import seaborn as sns\n",
    "import pandas as pd\n",
    "from sklearn import preprocessing\n",
    "import random\n",
    "from sklearn.model_selection import train_test_split  \n",
    "from sklearn.naive_bayes import GaussianNB  \n",
    "from sklearn.metrics import accuracy_score"
   ]
  },
  {
   "cell_type": "code",
   "execution_count": 2,
   "id": "legitimate-alberta",
   "metadata": {
    "execution": {
     "iopub.execute_input": "2021-04-09T13:04:25.553868Z",
     "iopub.status.busy": "2021-04-09T13:04:25.553229Z",
     "iopub.status.idle": "2021-04-09T13:04:25.562295Z",
     "shell.execute_reply": "2021-04-09T13:04:25.562853Z"
    },
    "papermill": {
     "duration": 0.026313,
     "end_time": "2021-04-09T13:04:25.563053",
     "exception": false,
     "start_time": "2021-04-09T13:04:25.536740",
     "status": "completed"
    },
    "tags": []
   },
   "outputs": [],
   "source": [
    "map_8bit_to_3bit = [i // 32 for i in range(256)]\n",
    "model = {}\n",
    "model_test = {}\n",
    "neighbor = 3\n",
    "time_modelling_start = timeit.default_timer()\n",
    "model[\"Bacterial_spot\"] = []\n",
    "model[\"Early_blight\"] = []\n",
    "model[\"Late_blight\"] = []\n",
    "model[\"Leaf_Mold\"] = []\n",
    "model[\"Septoria_leaf_spot\"] = []\n",
    "model[\"Spider_mites Two-spotted_spider_mite\"] = []\n",
    "model[\"Target_Spot\"] = []\n",
    "model[\"Tomato_Yellow_Leaf_Curl_Virus\"] = []\n",
    "model[\"Tomato_mosaic_virus\"] = []\n",
    "model[\"healthy\"] = []\n",
    "model_test[\"Bacterial_spot\"] = []\n",
    "model_test[\"Early_blight\"] = []\n",
    "model_test[\"Late_blight\"] = []\n",
    "model_test[\"Leaf_Mold\"] = []\n",
    "model_test[\"Septoria_leaf_spot\"] = []\n",
    "model_test[\"Spider_mites Two-spotted_spider_mite\"] = []\n",
    "model_test[\"Target_Spot\"] = []\n",
    "model_test[\"Tomato_Yellow_Leaf_Curl_Virus\"] = []\n",
    "model_test[\"Tomato_mosaic_virus\"] = []\n",
    "model_test[\"healthy\"] = []"
   ]
  },
  {
   "cell_type": "code",
   "execution_count": 3,
   "id": "systematic-jesus",
   "metadata": {
    "execution": {
     "iopub.execute_input": "2021-04-09T13:04:25.595207Z",
     "iopub.status.busy": "2021-04-09T13:04:25.594542Z",
     "iopub.status.idle": "2021-04-09T13:04:25.611354Z",
     "shell.execute_reply": "2021-04-09T13:04:25.612013Z"
    },
    "papermill": {
     "duration": 0.035113,
     "end_time": "2021-04-09T13:04:25.612195",
     "exception": false,
     "start_time": "2021-04-09T13:04:25.577082",
     "status": "completed"
    },
    "tags": []
   },
   "outputs": [],
   "source": [
    "#Pre Processing\n",
    "def load_img(img_path):\n",
    "    return Image.open(img_path).convert('L')\n",
    "\n",
    "def get_img_size(img):\n",
    "    return img.size\n",
    "\n",
    "def print_img(img):\n",
    "    plt.imshow(img)\n",
    "    \n",
    "def get_img_colors(img, sampling_count):\n",
    "    img_width, img_height = get_img_size(img)\n",
    "    \n",
    "    sample_width = int(img_width / sampling_count)\n",
    "    sample_height = int(img_height / sampling_count)\n",
    "    \n",
    "    half_sample_width = int(sample_width/2)\n",
    "    half_sample_height = int(sample_height/2)\n",
    "\n",
    "    img_colors = []\n",
    "\n",
    "    width_constraint = img_width - (2 * sample_width)\n",
    "    height_constraint = img_height - (2 * sample_height)\n",
    "   \n",
    "    row = 0\n",
    "    for point_x in range(half_sample_width, img_width, sample_width):\n",
    "        if(row == sampling_count):\n",
    "            break\n",
    "        column = 0\n",
    "        for point_y in range(half_sample_height, img_height, sample_height):\n",
    "            if(column == sampling_count):\n",
    "                break\n",
    "            img_colors.append(img.getpixel((point_x, point_y)))\n",
    "                \n",
    "            column += 1\n",
    "                \n",
    "        row += 1\n",
    "            \n",
    "    return img_colors\n",
    "\n",
    "def construct_img(img_colors, img_dimension, sampling_count):\n",
    "    img_new = Image.new('RGB', (img_dimension), (255, 255, 255))\n",
    "    draw = ImageDraw.Draw(img_new)\n",
    "    \n",
    "    img_new_width = img_dimension[0]\n",
    "    img_new_height = img_dimension[1]\n",
    "\n",
    "    sample_width = int(img_new_width/sampling_count)\n",
    "    sample_height = int(img_new_height/sampling_count)\n",
    "    loop_count = 0\n",
    "\n",
    "    img_colors_len = len(img_colors)\n",
    "\n",
    "    for w in range(0, img_new_width, sample_width):\n",
    "        for h in range(0, img_new_height, sample_height):\n",
    "            if(loop_count == img_colors_len):\n",
    "                break\n",
    "            \n",
    "            current_color = (img_colors[loop_count], img_colors[loop_count], img_colors[loop_count])\n",
    "            draw.rectangle((w, h, w+sample_width, h+sample_height), fill=current_color)\n",
    "            loop_count += 1\n",
    "    \n",
    "    return img_new\n",
    "\n",
    "def get_3bit_colors(img_colors):\n",
    "    loop_count = 0\n",
    "    \n",
    "    for img_color in img_colors:\n",
    "        img_colors[loop_count] = map_8bit_to_3bit[img_color]\n",
    "        \n",
    "        loop_count += 1\n",
    "        \n",
    "    return img_colors\n",
    "\n",
    "def get_img_matrix(img_colors):\n",
    "    img_matrix = [] \n",
    "    loop_count = 0\n",
    "    \n",
    "    loop_count = 0\n",
    "    img_square_dimension = int(math.sqrt(len(img_colors)))\n",
    "    \n",
    "    for row in range(img_square_dimension):\n",
    "        temp_row = []\n",
    "        for col in range(img_square_dimension):\n",
    "            temp_row.append(img_colors[loop_count])\n",
    "            \n",
    "            loop_count += 1\n",
    "        img_matrix.append(temp_row)\n",
    "        \n",
    "    return img_matrix"
   ]
  },
  {
   "cell_type": "code",
   "execution_count": 4,
   "id": "continuing-official",
   "metadata": {
    "execution": {
     "iopub.execute_input": "2021-04-09T13:04:25.643794Z",
     "iopub.status.busy": "2021-04-09T13:04:25.643170Z",
     "iopub.status.idle": "2021-04-09T13:04:25.649735Z",
     "shell.execute_reply": "2021-04-09T13:04:25.650265Z"
    },
    "papermill": {
     "duration": 0.02407,
     "end_time": "2021-04-09T13:04:25.650432",
     "exception": false,
     "start_time": "2021-04-09T13:04:25.626362",
     "status": "completed"
    },
    "tags": []
   },
   "outputs": [],
   "source": [
    "#Features Extraction\n",
    "def feature_extract(img, sampling_count, class_name):\n",
    "    glcm_component=[]\n",
    "    img_colors = get_img_colors(img, sampling_count)\n",
    "    img_3bit_colors = get_3bit_colors(img_colors)\n",
    "    img_matrix = get_img_matrix(img_3bit_colors)\n",
    "    glcm_matrix=greycomatrix(img_matrix, distances=[1], angles=[0], levels=12, symmetric=False, normed=False)\n",
    "    component = ['contrast', 'homogeneity', 'energy', 'correlation', 'ASM', 'dissimilarity']\n",
    "    for x in component:\n",
    "        glcm_component.append(greycoprops(glcm_matrix, x)[0][0])\n",
    "    if(class_name == \"tulis\"):\n",
    "        glcm_component.append(1)\n",
    "    else:\n",
    "        glcm_component.append(0)\n",
    "    return(glcm_component)"
   ]
  },
  {
   "cell_type": "code",
   "execution_count": null,
   "id": "ordered-tourism",
   "metadata": {
    "papermill": {
     "duration": 0.013934,
     "end_time": "2021-04-09T13:04:25.678609",
     "exception": false,
     "start_time": "2021-04-09T13:04:25.664675",
     "status": "completed"
    },
    "tags": []
   },
   "outputs": [],
   "source": []
  },
  {
   "cell_type": "markdown",
   "id": "charitable-death",
   "metadata": {
    "papermill": {
     "duration": 0.013873,
     "end_time": "2021-04-09T13:04:25.707618",
     "exception": false,
     "start_time": "2021-04-09T13:04:25.693745",
     "status": "completed"
    },
    "tags": []
   },
   "source": [
    "model_test[\"Bacterial_spot\"] = []\n",
    "model_test[\"Early_blight\"] = []\n",
    "model_test[\"Late_blight\"] = []\n",
    "model_test[\"Leaf_Mold\"] = []\n",
    "model_test[\"Septoria_leaf_spot\"] = []\n",
    "model_test[\"Spider_mites Two-spotted_spider_mite\"] = []\n",
    "model_test[\"Target_Spot\"] = []\n",
    "model_test[\"Tomato_Yellow_Leaf_Curl_Virus\"] = []\n",
    "model_test[\"Tomato_mosaic_virus\"] = []\n",
    "model_test[\"healthy\"] = []"
   ]
  },
  {
   "cell_type": "code",
   "execution_count": 5,
   "id": "bulgarian-sodium",
   "metadata": {
    "execution": {
     "iopub.execute_input": "2021-04-09T13:04:25.739860Z",
     "iopub.status.busy": "2021-04-09T13:04:25.738842Z",
     "iopub.status.idle": "2021-04-09T13:04:25.746530Z",
     "shell.execute_reply": "2021-04-09T13:04:25.747200Z"
    },
    "papermill": {
     "duration": 0.025592,
     "end_time": "2021-04-09T13:04:25.747376",
     "exception": false,
     "start_time": "2021-04-09T13:04:25.721784",
     "status": "completed"
    },
    "tags": []
   },
   "outputs": [],
   "source": [
    "\n",
    "#Modelling\n",
    "def get_class_names(training_folder_path):\n",
    "    return os.listdir(training_folder_path)\n",
    "\n",
    "def make_a_model(class_name, features, learning_rate):\n",
    "    random_splitter = random.uniform(0, 1)\n",
    "    if(random_splitter <= learning_rate):\n",
    "        model[class_name].append(features)\n",
    "    else:\n",
    "        model_test[class_name].append(features)\n",
    "        \n",
    "def to_dataframe(model):\n",
    "    models = pd.DataFrame(model['Bacterial_spot'] + model['Early_blight']+model['Late_blight'] + model['Leaf_Mold'] +model['Septoria_leaf_spot'] +model['Spider_mites Two-spotted_spider_mite'] + model['Septoria_leaf_spot'] + model['Target_Spot'] + model['Tomato_Yellow_Leaf_Curl_Virus']+ model['Tomato_mosaic_virus'] + model['healthy'], columns=['contrast', 'homogeneity', 'energy', 'correlation', 'ASM', 'dissimilarity', 'class'])\n",
    "    return models"
   ]
  },
  {
   "cell_type": "code",
   "execution_count": 6,
   "id": "refined-latin",
   "metadata": {
    "execution": {
     "iopub.execute_input": "2021-04-09T13:04:25.780810Z",
     "iopub.status.busy": "2021-04-09T13:04:25.780161Z",
     "iopub.status.idle": "2021-04-09T13:04:25.786589Z",
     "shell.execute_reply": "2021-04-09T13:04:25.787153Z"
    },
    "papermill": {
     "duration": 0.024147,
     "end_time": "2021-04-09T13:04:25.787329",
     "exception": false,
     "start_time": "2021-04-09T13:04:25.763182",
     "status": "completed"
    },
    "tags": []
   },
   "outputs": [],
   "source": [
    "\n",
    "#Classification\n",
    "def naive_bayes(image):\n",
    "    prob = 1\n",
    "    probability = 0.00\n",
    "    for class_name in class_names:\n",
    "        for i in range(5):\n",
    "            a = (image[i]-mean[class_name][i])**2/(2*variance[class_name][i])\n",
    "            b = 1/(np.sqrt(2*3.14*variance[class_name][i]))\n",
    "            \n",
    "            prob=prob * (b* np.exp(0-a))\n",
    "        \n",
    "        prob=1\n",
    "        if(prob>probability):\n",
    "            probability = prob\n",
    "            probability_class = class_name\n",
    "    return probability_class"
   ]
  },
  {
   "cell_type": "code",
   "execution_count": 7,
   "id": "fundamental-coaching",
   "metadata": {
    "execution": {
     "iopub.execute_input": "2021-04-09T13:04:25.820399Z",
     "iopub.status.busy": "2021-04-09T13:04:25.819760Z",
     "iopub.status.idle": "2021-04-09T13:04:25.826291Z",
     "shell.execute_reply": "2021-04-09T13:04:25.826780Z"
    },
    "papermill": {
     "duration": 0.024233,
     "end_time": "2021-04-09T13:04:25.826971",
     "exception": false,
     "start_time": "2021-04-09T13:04:25.802738",
     "status": "completed"
    },
    "tags": []
   },
   "outputs": [],
   "source": [
    "#Validation\n",
    "def validate(sampling_count):\n",
    "    right = 0\n",
    "    total = 0\n",
    "    for class_name in class_names:\n",
    "        validate_img_paths = glob.glob(validation_folder_path + class_name + '/' +img_type)\n",
    "        for images in validate_img_paths:\n",
    "            img = load_img(images)\n",
    "            training_img_class_name = class_name\n",
    "            image = feature_extract(img, sampling_count, training_img_class_name)\n",
    "            predict = naive_bayes(image)\n",
    "            class_image = class_name\n",
    "            if(predict == class_name):\n",
    "                   right+=1\n",
    "            total +=1\n",
    "        accuracy = (right/total) * 100\n",
    "    print(\"Accuracy: \" + str(accuracy) +\"%\")"
   ]
  },
  {
   "cell_type": "code",
   "execution_count": 8,
   "id": "heard-addiction",
   "metadata": {
    "execution": {
     "iopub.execute_input": "2021-04-09T13:04:25.860059Z",
     "iopub.status.busy": "2021-04-09T13:04:25.859398Z",
     "iopub.status.idle": "2021-04-09T13:10:44.460225Z",
     "shell.execute_reply": "2021-04-09T13:10:44.460737Z"
    },
    "papermill": {
     "duration": 378.619321,
     "end_time": "2021-04-09T13:10:44.460913",
     "exception": false,
     "start_time": "2021-04-09T13:04:25.841592",
     "status": "completed"
    },
    "tags": []
   },
   "outputs": [
    {
     "name": "stdout",
     "output_type": "stream",
     "text": [
      "['Late_blight', 'Tomato_Yellow_Leaf_Curl_Virus', 'Septoria_leaf_spot', 'Early_blight', 'Spider_mites Two-spotted_spider_mite', 'healthy', 'Bacterial_spot', 'Target_Spot', 'Tomato_mosaic_virus', 'Leaf_Mold']\n",
      "Time elapsed to make this model is 378.8819686700001 seconds.\n"
     ]
    }
   ],
   "source": [
    "\n",
    "#Training Testing\n",
    "\n",
    "learning_rate = 1\n",
    "sampling_count = 128\n",
    "img_type = '*.JPG'\n",
    "root_path = './'\n",
    "training_folder_path = '../input/tomato/dataset/train/'\n",
    "validation_folder_path = '../input/tomato/dataset/val/'\n",
    "test_folder_path = '../input/testdata/test'\n",
    "\n",
    "class_names = get_class_names(training_folder_path)\n",
    "print(class_names)\n",
    "for i in range(1):\n",
    "    for class_name in class_names:\n",
    "        training_img_paths = glob.glob(training_folder_path + class_name + '/' + img_type)\n",
    "        #print(training_img_paths)\n",
    "        for training_img_path in training_img_paths:\n",
    "            training_img = load_img(training_img_path)\n",
    "            training_img_class_name = class_name\n",
    "            feature = feature_extract(training_img, sampling_count, training_img_class_name)\n",
    "            make_a_model(class_name, feature, learning_rate)\n",
    "        \n",
    "    models = to_dataframe(model)\n",
    "    models_test = to_dataframe(model_test)\n",
    "\n",
    "#     testings()\n",
    "# validate(128)\n",
    "\n",
    "\n",
    "\n",
    "time_modelling_stop = timeit.default_timer()\n",
    "print('Time elapsed to make this model is ' + str(time_modelling_stop - time_modelling_start) + ' seconds.')"
   ]
  },
  {
   "cell_type": "code",
   "execution_count": null,
   "id": "front-journal",
   "metadata": {
    "papermill": {
     "duration": 0.015062,
     "end_time": "2021-04-09T13:10:44.491786",
     "exception": false,
     "start_time": "2021-04-09T13:10:44.476724",
     "status": "completed"
    },
    "tags": []
   },
   "outputs": [],
   "source": []
  },
  {
   "cell_type": "code",
   "execution_count": 9,
   "id": "colored-rabbit",
   "metadata": {
    "execution": {
     "iopub.execute_input": "2021-04-09T13:10:44.527747Z",
     "iopub.status.busy": "2021-04-09T13:10:44.527116Z",
     "iopub.status.idle": "2021-04-09T13:10:44.562712Z",
     "shell.execute_reply": "2021-04-09T13:10:44.563212Z"
    },
    "papermill": {
     "duration": 0.054763,
     "end_time": "2021-04-09T13:10:44.563396",
     "exception": false,
     "start_time": "2021-04-09T13:10:44.508633",
     "status": "completed"
    },
    "tags": []
   },
   "outputs": [
    {
     "data": {
      "text/html": [
       "<div>\n",
       "<style scoped>\n",
       "    .dataframe tbody tr th:only-of-type {\n",
       "        vertical-align: middle;\n",
       "    }\n",
       "\n",
       "    .dataframe tbody tr th {\n",
       "        vertical-align: top;\n",
       "    }\n",
       "\n",
       "    .dataframe thead th {\n",
       "        text-align: right;\n",
       "    }\n",
       "</style>\n",
       "<table border=\"1\" class=\"dataframe\">\n",
       "  <thead>\n",
       "    <tr style=\"text-align: right;\">\n",
       "      <th></th>\n",
       "      <th>contrast</th>\n",
       "      <th>homogeneity</th>\n",
       "      <th>energy</th>\n",
       "      <th>correlation</th>\n",
       "      <th>ASM</th>\n",
       "      <th>dissimilarity</th>\n",
       "      <th>class</th>\n",
       "    </tr>\n",
       "  </thead>\n",
       "  <tbody>\n",
       "    <tr>\n",
       "      <th>0</th>\n",
       "      <td>0.400775</td>\n",
       "      <td>0.825710</td>\n",
       "      <td>0.366480</td>\n",
       "      <td>0.863886</td>\n",
       "      <td>0.134308</td>\n",
       "      <td>0.357222</td>\n",
       "      <td>0</td>\n",
       "    </tr>\n",
       "    <tr>\n",
       "      <th>1</th>\n",
       "      <td>0.417261</td>\n",
       "      <td>0.838210</td>\n",
       "      <td>0.412657</td>\n",
       "      <td>0.739594</td>\n",
       "      <td>0.170286</td>\n",
       "      <td>0.339136</td>\n",
       "      <td>0</td>\n",
       "    </tr>\n",
       "    <tr>\n",
       "      <th>2</th>\n",
       "      <td>0.504491</td>\n",
       "      <td>0.797317</td>\n",
       "      <td>0.354792</td>\n",
       "      <td>0.801992</td>\n",
       "      <td>0.125878</td>\n",
       "      <td>0.421690</td>\n",
       "      <td>0</td>\n",
       "    </tr>\n",
       "    <tr>\n",
       "      <th>3</th>\n",
       "      <td>0.399299</td>\n",
       "      <td>0.829407</td>\n",
       "      <td>0.384942</td>\n",
       "      <td>0.798917</td>\n",
       "      <td>0.148180</td>\n",
       "      <td>0.350824</td>\n",
       "      <td>0</td>\n",
       "    </tr>\n",
       "    <tr>\n",
       "      <th>4</th>\n",
       "      <td>0.366019</td>\n",
       "      <td>0.844278</td>\n",
       "      <td>0.402350</td>\n",
       "      <td>0.804889</td>\n",
       "      <td>0.161885</td>\n",
       "      <td>0.320497</td>\n",
       "      <td>0</td>\n",
       "    </tr>\n",
       "    <tr>\n",
       "      <th>...</th>\n",
       "      <td>...</td>\n",
       "      <td>...</td>\n",
       "      <td>...</td>\n",
       "      <td>...</td>\n",
       "      <td>...</td>\n",
       "      <td>...</td>\n",
       "      <td>...</td>\n",
       "    </tr>\n",
       "    <tr>\n",
       "      <th>10905</th>\n",
       "      <td>2.654097</td>\n",
       "      <td>0.533766</td>\n",
       "      <td>0.201736</td>\n",
       "      <td>0.500198</td>\n",
       "      <td>0.040697</td>\n",
       "      <td>1.205278</td>\n",
       "      <td>0</td>\n",
       "    </tr>\n",
       "    <tr>\n",
       "      <th>10906</th>\n",
       "      <td>2.277128</td>\n",
       "      <td>0.557487</td>\n",
       "      <td>0.216168</td>\n",
       "      <td>0.531242</td>\n",
       "      <td>0.046728</td>\n",
       "      <td>1.105746</td>\n",
       "      <td>0</td>\n",
       "    </tr>\n",
       "    <tr>\n",
       "      <th>10907</th>\n",
       "      <td>2.635950</td>\n",
       "      <td>0.555904</td>\n",
       "      <td>0.197364</td>\n",
       "      <td>0.531501</td>\n",
       "      <td>0.038952</td>\n",
       "      <td>1.160064</td>\n",
       "      <td>0</td>\n",
       "    </tr>\n",
       "    <tr>\n",
       "      <th>10908</th>\n",
       "      <td>2.089136</td>\n",
       "      <td>0.590748</td>\n",
       "      <td>0.210255</td>\n",
       "      <td>0.630201</td>\n",
       "      <td>0.044207</td>\n",
       "      <td>1.018393</td>\n",
       "      <td>0</td>\n",
       "    </tr>\n",
       "    <tr>\n",
       "      <th>10909</th>\n",
       "      <td>1.986467</td>\n",
       "      <td>0.604431</td>\n",
       "      <td>0.228259</td>\n",
       "      <td>0.636838</td>\n",
       "      <td>0.052102</td>\n",
       "      <td>0.979823</td>\n",
       "      <td>0</td>\n",
       "    </tr>\n",
       "  </tbody>\n",
       "</table>\n",
       "<p>10910 rows × 7 columns</p>\n",
       "</div>"
      ],
      "text/plain": [
       "       contrast  homogeneity    energy  correlation       ASM  dissimilarity  \\\n",
       "0      0.400775     0.825710  0.366480     0.863886  0.134308       0.357222   \n",
       "1      0.417261     0.838210  0.412657     0.739594  0.170286       0.339136   \n",
       "2      0.504491     0.797317  0.354792     0.801992  0.125878       0.421690   \n",
       "3      0.399299     0.829407  0.384942     0.798917  0.148180       0.350824   \n",
       "4      0.366019     0.844278  0.402350     0.804889  0.161885       0.320497   \n",
       "...         ...          ...       ...          ...       ...            ...   \n",
       "10905  2.654097     0.533766  0.201736     0.500198  0.040697       1.205278   \n",
       "10906  2.277128     0.557487  0.216168     0.531242  0.046728       1.105746   \n",
       "10907  2.635950     0.555904  0.197364     0.531501  0.038952       1.160064   \n",
       "10908  2.089136     0.590748  0.210255     0.630201  0.044207       1.018393   \n",
       "10909  1.986467     0.604431  0.228259     0.636838  0.052102       0.979823   \n",
       "\n",
       "       class  \n",
       "0          0  \n",
       "1          0  \n",
       "2          0  \n",
       "3          0  \n",
       "4          0  \n",
       "...      ...  \n",
       "10905      0  \n",
       "10906      0  \n",
       "10907      0  \n",
       "10908      0  \n",
       "10909      0  \n",
       "\n",
       "[10910 rows x 7 columns]"
      ]
     },
     "execution_count": 9,
     "metadata": {},
     "output_type": "execute_result"
    }
   ],
   "source": [
    "models"
   ]
  },
  {
   "cell_type": "code",
   "execution_count": 10,
   "id": "simplified-livestock",
   "metadata": {
    "execution": {
     "iopub.execute_input": "2021-04-09T13:10:44.600712Z",
     "iopub.status.busy": "2021-04-09T13:10:44.600032Z",
     "iopub.status.idle": "2021-04-09T13:10:44.616335Z",
     "shell.execute_reply": "2021-04-09T13:10:44.616843Z"
    },
    "papermill": {
     "duration": 0.036484,
     "end_time": "2021-04-09T13:10:44.617028",
     "exception": false,
     "start_time": "2021-04-09T13:10:44.580544",
     "status": "completed"
    },
    "tags": []
   },
   "outputs": [
    {
     "data": {
      "text/plain": [
       "1.0"
      ]
     },
     "execution_count": 10,
     "metadata": {},
     "output_type": "execute_result"
    }
   ],
   "source": [
    "x = models.iloc[:, [0, 5]].values  \n",
    "y = models.iloc[:, 6].values\n",
    "x_train, x_test, y_train, y_test = train_test_split(x, y, test_size = 0.25, random_state = 5)\n",
    "sc = StandardScaler()  \n",
    "x_train = sc.fit_transform(x_train)  \n",
    "x_test = sc.transform(x_test)\n",
    "classifier = GaussianNB()  \n",
    "classifier.fit(x_train, y_train)\n",
    "y_pred = classifier.predict(x_test)\n",
    "accuracy_score(y_test, y_pred)\n"
   ]
  },
  {
   "cell_type": "code",
   "execution_count": 11,
   "id": "favorite-recycling",
   "metadata": {
    "execution": {
     "iopub.execute_input": "2021-04-09T13:10:44.654636Z",
     "iopub.status.busy": "2021-04-09T13:10:44.653974Z",
     "iopub.status.idle": "2021-04-09T13:10:44.659698Z",
     "shell.execute_reply": "2021-04-09T13:10:44.660228Z"
    },
    "papermill": {
     "duration": 0.026416,
     "end_time": "2021-04-09T13:10:44.660404",
     "exception": false,
     "start_time": "2021-04-09T13:10:44.633988",
     "status": "completed"
    },
    "tags": []
   },
   "outputs": [
    {
     "data": {
      "text/plain": [
       "array([[0.4007751 , 0.35722195],\n",
       "       [0.41726132, 0.33913632],\n",
       "       [0.50449065, 0.42169045],\n",
       "       ...,\n",
       "       [2.6359498 , 1.16006398],\n",
       "       [2.08913632, 1.01839321],\n",
       "       [1.98646654, 0.97982283]])"
      ]
     },
     "execution_count": 11,
     "metadata": {},
     "output_type": "execute_result"
    }
   ],
   "source": [
    "x\n"
   ]
  },
  {
   "cell_type": "code",
   "execution_count": null,
   "id": "illegal-madison",
   "metadata": {
    "papermill": {
     "duration": 0.017399,
     "end_time": "2021-04-09T13:10:44.695061",
     "exception": false,
     "start_time": "2021-04-09T13:10:44.677662",
     "status": "completed"
    },
    "tags": []
   },
   "outputs": [],
   "source": []
  },
  {
   "cell_type": "code",
   "execution_count": null,
   "id": "eligible-given",
   "metadata": {
    "papermill": {
     "duration": 0.018262,
     "end_time": "2021-04-09T13:10:44.730851",
     "exception": false,
     "start_time": "2021-04-09T13:10:44.712589",
     "status": "completed"
    },
    "tags": []
   },
   "outputs": [],
   "source": []
  },
  {
   "cell_type": "code",
   "execution_count": null,
   "id": "piano-sleep",
   "metadata": {
    "papermill": {
     "duration": 0.016669,
     "end_time": "2021-04-09T13:10:44.764633",
     "exception": false,
     "start_time": "2021-04-09T13:10:44.747964",
     "status": "completed"
    },
    "tags": []
   },
   "outputs": [],
   "source": []
  },
  {
   "cell_type": "code",
   "execution_count": null,
   "id": "continental-payment",
   "metadata": {
    "papermill": {
     "duration": 0.016745,
     "end_time": "2021-04-09T13:10:44.798613",
     "exception": false,
     "start_time": "2021-04-09T13:10:44.781868",
     "status": "completed"
    },
    "tags": []
   },
   "outputs": [],
   "source": []
  },
  {
   "cell_type": "code",
   "execution_count": null,
   "id": "contemporary-numbers",
   "metadata": {
    "papermill": {
     "duration": 0.018003,
     "end_time": "2021-04-09T13:10:44.834388",
     "exception": false,
     "start_time": "2021-04-09T13:10:44.816385",
     "status": "completed"
    },
    "tags": []
   },
   "outputs": [],
   "source": []
  }
 ],
 "metadata": {
  "kernelspec": {
   "display_name": "Python 3 (ipykernel)",
   "language": "python",
   "name": "python3"
  },
  "language_info": {
   "codemirror_mode": {
    "name": "ipython",
    "version": 3
   },
   "file_extension": ".py",
   "mimetype": "text/x-python",
   "name": "python",
   "nbconvert_exporter": "python",
   "pygments_lexer": "ipython3",
   "version": "3.11.7"
  },
  "papermill": {
   "default_parameters": {},
   "duration": 388.733937,
   "end_time": "2021-04-09T13:10:45.566159",
   "environment_variables": {},
   "exception": null,
   "input_path": "__notebook__.ipynb",
   "output_path": "__notebook__.ipynb",
   "parameters": {},
   "start_time": "2021-04-09T13:04:16.832222",
   "version": "2.3.2"
  }
 },
 "nbformat": 4,
 "nbformat_minor": 5
}
